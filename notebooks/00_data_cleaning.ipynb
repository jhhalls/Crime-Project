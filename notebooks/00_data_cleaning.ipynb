{
 "cells": [
  {
   "cell_type": "code",
   "execution_count": 12,
   "metadata": {},
   "outputs": [],
   "source": [
    "import pandas as pd\n",
    "import numpy as np\n",
    "\n",
    "df = pd.read_csv(r\"/Users/rohit/Downloads/My ML playlist/crime_project/data/cleaned_data/02_Person_arrested_and_their_disposal_by_police_and_court_IPC_crime_2012\")"
   ]
  },
  {
   "cell_type": "code",
   "execution_count": 13,
   "metadata": {},
   "outputs": [
    {
     "data": {
      "text/plain": [
       "state/ut                                                                                                             ANDHRA PRADESH\n",
       "crime_head                                                                                                 MURDER (SECTION 302 IPC)\n",
       "persons_in_custody_or_on_bail_during_the_stage_of_investigation_at_the_beginning_of_the_year                                   3263\n",
       "persons_arrested_during_the_year                                                                                               5509\n",
       "persons_released_or_freed_by_police_or_magistrate_before_trial_for_want_of_evidence_or_any_other_reason                           0\n",
       "persons_in_custody_or_on_bail_during_the_stage_of_investigation_at_the_end_of_the_year                                         3138\n",
       "persons_in_whose_cases_charge_sheets_were_laid_during_the_year                                                                 5634\n",
       "persons_under_trial_at_the_beginning_of_the_year                                                                              12111\n",
       "total_number_of_persons_under_trial_during_the_year                                                                           17745\n",
       "persons_against_whom_cases_were_compounded_or_withdrawn                                                                           2\n",
       "persons_in_custody_or_on_bail_during_the_stage_of_trial_at_the_end_of_the_year                                                13142\n",
       "persons_in_whose_cases_trials_were_completed_during_the_year                                                                   4601\n",
       "persons_convicted                                                                                                               754\n",
       "persons_acquitted                                                                                                              3847\n",
       "Name: 0, dtype: object"
      ]
     },
     "execution_count": 13,
     "metadata": {},
     "output_type": "execute_result"
    }
   ],
   "source": [
    "df.loc[0,:]"
   ]
  },
  {
   "cell_type": "code",
   "execution_count": 14,
   "metadata": {},
   "outputs": [
    {
     "data": {
      "text/plain": [
       "(1140, 14)"
      ]
     },
     "execution_count": 14,
     "metadata": {},
     "output_type": "execute_result"
    }
   ],
   "source": [
    "df.shape"
   ]
  },
  {
   "cell_type": "code",
   "execution_count": null,
   "metadata": {},
   "outputs": [],
   "source": []
  }
 ],
 "metadata": {
  "kernelspec": {
   "display_name": "base",
   "language": "python",
   "name": "python3"
  },
  "language_info": {
   "codemirror_mode": {
    "name": "ipython",
    "version": 3
   },
   "file_extension": ".py",
   "mimetype": "text/x-python",
   "name": "python",
   "nbconvert_exporter": "python",
   "pygments_lexer": "ipython3",
   "version": "3.11.4"
  }
 },
 "nbformat": 4,
 "nbformat_minor": 2
}
